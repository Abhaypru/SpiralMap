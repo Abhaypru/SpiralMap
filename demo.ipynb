{
 "cells": [
  {
   "cell_type": "code",
   "execution_count": 1,
   "id": "c8e5c06e-49b8-45e9-96f5-edd701b3f0ca",
   "metadata": {},
   "outputs": [],
   "source": [
    "import SpiralMap as sp\n",
    "import matplotlib.pyplot as plt\n",
    "import os\n",
    "plt.ion()\n",
    "xsun=-8.277"
   ]
  },
  {
   "cell_type": "markdown",
   "id": "38288d75-4676-4859-a265-849064f77d80",
   "metadata": {},
   "source": [
    "### Exploring spiral models"
   ]
  },
  {
   "cell_type": "markdown",
   "id": "02e133d9-fdc1-4631-be90-de1bdb8acb9a",
   "metadata": {},
   "source": [
    "#### First we need to initialise the main class by passing in the xsun. This also prints out the list of models currently available."
   ]
  },
  {
   "cell_type": "code",
   "execution_count": 2,
   "id": "9c2f34ab-c873-4403-992c-4f3986baade8",
   "metadata": {},
   "outputs": [
    {
     "ename": "AttributeError",
     "evalue": "'reid_spiral' object has no attribute 'getarmlist'",
     "output_type": "error",
     "traceback": [
      "\u001b[0;31m---------------------------------------------------------------------------\u001b[0m",
      "\u001b[0;31mAttributeError\u001b[0m                            Traceback (most recent call last)",
      "Cell \u001b[0;32mIn[2], line 1\u001b[0m\n\u001b[0;32m----> 1\u001b[0m spirals \u001b[38;5;241m=\u001b[39m \u001b[43msp\u001b[49m\u001b[38;5;241;43m.\u001b[39;49m\u001b[43mmain_\u001b[49m\u001b[43m(\u001b[49m\u001b[43mxsun\u001b[49m\u001b[38;5;241;43m=\u001b[39;49m\u001b[43mxsun\u001b[49m\u001b[43m)\u001b[49m\n",
      "File \u001b[0;32m~/Documents/GitHub/SpiralMapping_package/SpiralMap.py:1487\u001b[0m, in \u001b[0;36mmain_.__init__\u001b[0;34m(self, xsun)\u001b[0m\n\u001b[1;32m   1484\u001b[0m \u001b[38;5;28mself\u001b[39m\u001b[38;5;241m.\u001b[39mxsun \u001b[38;5;241m=\u001b[39m xsun\n\u001b[1;32m   1485\u001b[0m \u001b[38;5;28mself\u001b[39m\u001b[38;5;241m.\u001b[39mRsun \u001b[38;5;241m=\u001b[39m \u001b[38;5;241m-\u001b[39m\u001b[38;5;28mself\u001b[39m\u001b[38;5;241m.\u001b[39mxsun\n\u001b[0;32m-> 1487\u001b[0m \u001b[38;5;28;43mself\u001b[39;49m\u001b[38;5;241;43m.\u001b[39;49m\u001b[43mlistmodels\u001b[49m\u001b[43m(\u001b[49m\u001b[43m)\u001b[49m\n\u001b[1;32m   1488\u001b[0m \u001b[38;5;28mself\u001b[39m\u001b[38;5;241m.\u001b[39mgetinfo()\n",
      "File \u001b[0;32m~/Documents/GitHub/SpiralMapping_package/SpiralMap.py:1499\u001b[0m, in \u001b[0;36mmain_.listmodels\u001b[0;34m(self)\u001b[0m\n\u001b[1;32m   1496\u001b[0m \u001b[38;5;28mself\u001b[39m\u001b[38;5;241m.\u001b[39mmodels \u001b[38;5;241m=\u001b[39m [\u001b[38;5;124m'\u001b[39m\u001b[38;5;124mTaylor_Cordes_1992\u001b[39m\u001b[38;5;124m'\u001b[39m,\u001b[38;5;124m'\u001b[39m\u001b[38;5;124mDrimmel_NIR_2000\u001b[39m\u001b[38;5;124m'\u001b[39m,\u001b[38;5;124m'\u001b[39m\u001b[38;5;124mLevine_2006\u001b[39m\u001b[38;5;124m'\u001b[39m,\u001b[38;5;124m'\u001b[39m\u001b[38;5;124mHou_Han_2014\u001b[39m\u001b[38;5;124m'\u001b[39m,\u001b[38;5;124m'\u001b[39m\u001b[38;5;124mReid_2019\u001b[39m\u001b[38;5;124m'\u001b[39m,\u001b[38;5;124m'\u001b[39m\u001b[38;5;124mPoggio_2021\u001b[39m\u001b[38;5;124m'\u001b[39m,\u001b[38;5;124m'\u001b[39m\u001b[38;5;124mDrimmel_ceph_2024\u001b[39m\u001b[38;5;124m'\u001b[39m]\n\u001b[1;32m   1497\u001b[0m \u001b[38;5;66;03m# self.models = ['Drimmel_NIR_2000','Levine_2006','Hou_Han_2014','Reid_2019','Poggio_2021']\u001b[39;00m\n\u001b[0;32m-> 1499\u001b[0m \u001b[38;5;28mself\u001b[39m\u001b[38;5;241m.\u001b[39mmodels_class \u001b[38;5;241m=\u001b[39m {\u001b[38;5;124m'\u001b[39m\u001b[38;5;124mReid_2019\u001b[39m\u001b[38;5;124m'\u001b[39m:\u001b[43mreid_spiral\u001b[49m\u001b[43m(\u001b[49m\u001b[43m)\u001b[49m,\n\u001b[1;32m   1500\u001b[0m                      \u001b[38;5;124m'\u001b[39m\u001b[38;5;124mLevine_2006\u001b[39m\u001b[38;5;124m'\u001b[39m:spiral_levine(),\n\u001b[1;32m   1501\u001b[0m                      \u001b[38;5;124m'\u001b[39m\u001b[38;5;124mPoggio_2021\u001b[39m\u001b[38;5;124m'\u001b[39m:spiral_eloisa(),\n\u001b[1;32m   1502\u001b[0m                      \u001b[38;5;124m'\u001b[39m\u001b[38;5;124mDrimmel_NIR_2000\u001b[39m\u001b[38;5;124m'\u001b[39m:spiral_drimmel(),\n\u001b[1;32m   1503\u001b[0m                      \u001b[38;5;124m'\u001b[39m\u001b[38;5;124mTaylor_Cordes_1992\u001b[39m\u001b[38;5;124m'\u001b[39m:TaylorCordesSpiral(),\n\u001b[1;32m   1504\u001b[0m                      \u001b[38;5;124m'\u001b[39m\u001b[38;5;124mHou_Han_2014\u001b[39m\u001b[38;5;124m'\u001b[39m:spiral_houhan(),\n\u001b[1;32m   1505\u001b[0m                      \u001b[38;5;124m'\u001b[39m\u001b[38;5;124mDrimmel_ceph_2024\u001b[39m\u001b[38;5;124m'\u001b[39m:spiral_cepheids()}\n",
      "File \u001b[0;32m~/Documents/GitHub/SpiralMapping_package/SpiralMap.py:1275\u001b[0m, in \u001b[0;36mreid_spiral.__init__\u001b[0;34m(self, kcor)\u001b[0m\n\u001b[1;32m   1266\u001b[0m \u001b[38;5;250m\u001b[39m\u001b[38;5;124;03m\"\"\"Initialize Reid et al. (2019) spiral model\u001b[39;00m\n\u001b[1;32m   1267\u001b[0m \u001b[38;5;124;03m\u001b[39;00m\n\u001b[1;32m   1268\u001b[0m \u001b[38;5;124;03mParameters\u001b[39;00m\n\u001b[0;32m   (...)\u001b[0m\n\u001b[1;32m   1272\u001b[0m \u001b[38;5;124;03m    default=False\u001b[39;00m\n\u001b[1;32m   1273\u001b[0m \u001b[38;5;124;03m\"\"\"\u001b[39;00m\n\u001b[1;32m   1274\u001b[0m \u001b[38;5;28mself\u001b[39m\u001b[38;5;241m.\u001b[39mkcor \u001b[38;5;241m=\u001b[39m kcor\n\u001b[0;32m-> 1275\u001b[0m \u001b[38;5;28;43mself\u001b[39;49m\u001b[38;5;241;43m.\u001b[39;49m\u001b[43mgetarmlist\u001b[49m()\n",
      "\u001b[0;31mAttributeError\u001b[0m: 'reid_spiral' object has no attribute 'getarmlist'"
     ]
    }
   ],
   "source": [
    "spirals = sp.main_(xsun=xsun)"
   ]
  },
  {
   "cell_type": "markdown",
   "id": "0a679c4a-898c-4544-b2c2-5e5a29178167",
   "metadata": {},
   "source": [
    "#### This information can also be extracted by calling:"
   ]
  },
  {
   "cell_type": "code",
   "execution_count": null,
   "id": "ba120796-4a0a-4350-825c-a54a57489a86",
   "metadata": {},
   "outputs": [],
   "source": [
    "spirals.getinfo()"
   ]
  },
  {
   "cell_type": "markdown",
   "id": "1bb759a3-67bf-4a4b-8f92-f40adfe039a1",
   "metadata": {},
   "source": [
    "#### To get details on a particular model (such as the number of arms and their names if available) we can call :"
   ]
  },
  {
   "cell_type": "code",
   "execution_count": null,
   "id": "4c6aa787-568a-4523-a34d-e2c02328e28f",
   "metadata": {},
   "outputs": [],
   "source": [
    "spirals.getinfo(model='Taylor_Cordes_1992')\n",
    "spirals.getinfo(model='Reid_2019')"
   ]
  },
  {
   "cell_type": "markdown",
   "id": "a8300089-478e-44b6-8429-191ebafbe3b1",
   "metadata": {},
   "source": [
    "### Extracting and plotting data"
   ]
  },
  {
   "cell_type": "markdown",
   "id": "9641cbc3-b5e1-41aa-b306-0e37ed42ec83",
   "metadata": {},
   "source": [
    "#### The main class needs a set of attributes passed in, before we can extract or plot data. Internally this set is provided by default, and the columns can be viewed by calling the line below. To see a full description of each attribute, one can use help(spirals.getinfo)."
   ]
  },
  {
   "cell_type": "code",
   "execution_count": null,
   "id": "a7eb5b32-8733-4ad4-8e61-f869c862757b",
   "metadata": {},
   "outputs": [],
   "source": [
    "spirals.plotattrs_default"
   ]
  },
  {
   "cell_type": "markdown",
   "id": "9fc208e8-20cd-47c9-b969-636e355d27c4",
   "metadata": {},
   "source": [
    "#### The most important attributes to set are : a) plot (True or False), b) coordsys ('HC'  or 'GC') for heliocentric or galactocentric options. For example, let us consider the 'Drimmel_NIR_2000' model, which as the getinfo function shows has 2 arms and 2 interarm regions."
   ]
  },
  {
   "cell_type": "code",
   "execution_count": 3,
   "id": "832995b8-0e36-4671-aad1-44c367115385",
   "metadata": {},
   "outputs": [
    {
     "ename": "NameError",
     "evalue": "name 'spirals' is not defined",
     "output_type": "error",
     "traceback": [
      "\u001b[0;31m---------------------------------------------------------------------------\u001b[0m",
      "\u001b[0;31mNameError\u001b[0m                                 Traceback (most recent call last)",
      "Cell \u001b[0;32mIn[3], line 2\u001b[0m\n\u001b[1;32m      1\u001b[0m use_model \u001b[38;5;241m=\u001b[39m \u001b[38;5;124m'\u001b[39m\u001b[38;5;124mDrimmel_NIR_2000\u001b[39m\u001b[38;5;124m'\u001b[39m\n\u001b[0;32m----> 2\u001b[0m \u001b[43mspirals\u001b[49m\u001b[38;5;241m.\u001b[39mgetinfo(model\u001b[38;5;241m=\u001b[39muse_model)\n",
      "\u001b[0;31mNameError\u001b[0m: name 'spirals' is not defined"
     ]
    }
   ],
   "source": [
    "use_model = 'Drimmel_NIR_2000'\n",
    "spirals.getinfo(model=use_model)"
   ]
  },
  {
   "cell_type": "markdown",
   "id": "06556ada-9a27-4de1-b9ff-74839d2e5e17",
   "metadata": {},
   "source": [
    "#### first let us simply extract the data (using the readout function) for this model, in this case for the first spiral arm. This generates a dictionary called dout which contains the cartesian trace of the specific arm."
   ]
  },
  {
   "cell_type": "code",
   "execution_count": 4,
   "id": "0981472b-e557-4495-b9d1-43f6b8db47d7",
   "metadata": {},
   "outputs": [
    {
     "ename": "NameError",
     "evalue": "name 'spirals' is not defined",
     "output_type": "error",
     "traceback": [
      "\u001b[0;31m---------------------------------------------------------------------------\u001b[0m",
      "\u001b[0;31mNameError\u001b[0m                                 Traceback (most recent call last)",
      "Cell \u001b[0;32mIn[4], line 2\u001b[0m\n\u001b[1;32m      1\u001b[0m plotattrs \u001b[38;5;241m=\u001b[39m {\u001b[38;5;124m'\u001b[39m\u001b[38;5;124mplot\u001b[39m\u001b[38;5;124m'\u001b[39m:\u001b[38;5;28;01mFalse\u001b[39;00m,\u001b[38;5;124m'\u001b[39m\u001b[38;5;124mcoordsys\u001b[39m\u001b[38;5;124m'\u001b[39m:\u001b[38;5;124m'\u001b[39m\u001b[38;5;124mHC\u001b[39m\u001b[38;5;124m'\u001b[39m,\u001b[38;5;124m'\u001b[39m\u001b[38;5;124mmarkersize\u001b[39m\u001b[38;5;124m'\u001b[39m:\u001b[38;5;241m15\u001b[39m}\n\u001b[0;32m----> 2\u001b[0m \u001b[43mspirals\u001b[49m\u001b[38;5;241m.\u001b[39mreadout(plotattrs,model\u001b[38;5;241m=\u001b[39muse_model,arm\u001b[38;5;241m=\u001b[39m\u001b[38;5;124m'\u001b[39m\u001b[38;5;124m1_arm\u001b[39m\u001b[38;5;124m'\u001b[39m)        \n\u001b[1;32m      3\u001b[0m \u001b[38;5;28mprint\u001b[39m(spirals\u001b[38;5;241m.\u001b[39mdout\u001b[38;5;241m.\u001b[39mkeys())\n\u001b[1;32m      4\u001b[0m \u001b[38;5;28mprint\u001b[39m(\u001b[38;5;124m'\u001b[39m\u001b[38;5;124mfirst 4 data points..\u001b[39m\u001b[38;5;124m'\u001b[39m)\n",
      "\u001b[0;31mNameError\u001b[0m: name 'spirals' is not defined"
     ]
    }
   ],
   "source": [
    "plotattrs = {'plot':False,'coordsys':'HC','markersize':15}\n",
    "spirals.readout(plotattrs,model=use_model,arm='1_arm')        \n",
    "print(spirals.dout.keys())\n",
    "print('first 4 data points..')\n",
    "for ky in spirals.dout.keys():\n",
    "    print(ky)\n",
    "    print(spirals.dout[ky][:4])\n"
   ]
  },
  {
   "cell_type": "markdown",
   "id": "db8556e4-28e6-40d5-8af5-395b30d76790",
   "metadata": {},
   "source": [
    "#### Instead to plot the data, we can set so in plotattrs, here plotting just one arm:"
   ]
  },
  {
   "cell_type": "code",
   "execution_count": 5,
   "id": "b60e5e87-8d86-4fd6-8ffe-7d634b5b5dc6",
   "metadata": {},
   "outputs": [
    {
     "ename": "NameError",
     "evalue": "name 'spirals' is not defined",
     "output_type": "error",
     "traceback": [
      "\u001b[0;31m---------------------------------------------------------------------------\u001b[0m",
      "\u001b[0;31mNameError\u001b[0m                                 Traceback (most recent call last)",
      "Cell \u001b[0;32mIn[5], line 2\u001b[0m\n\u001b[1;32m      1\u001b[0m plotattrs \u001b[38;5;241m=\u001b[39m {\u001b[38;5;124m'\u001b[39m\u001b[38;5;124mplot\u001b[39m\u001b[38;5;124m'\u001b[39m:\u001b[38;5;28;01mTrue\u001b[39;00m,\u001b[38;5;124m'\u001b[39m\u001b[38;5;124mcoordsys\u001b[39m\u001b[38;5;124m'\u001b[39m:\u001b[38;5;124m'\u001b[39m\u001b[38;5;124mHC\u001b[39m\u001b[38;5;124m'\u001b[39m,\u001b[38;5;124m'\u001b[39m\u001b[38;5;124mmarkersize\u001b[39m\u001b[38;5;124m'\u001b[39m:\u001b[38;5;241m15\u001b[39m}\n\u001b[0;32m----> 2\u001b[0m \u001b[43mspirals\u001b[49m\u001b[38;5;241m.\u001b[39mreadout(plotattrs,model\u001b[38;5;241m=\u001b[39muse_model,arm\u001b[38;5;241m=\u001b[39m\u001b[38;5;124m'\u001b[39m\u001b[38;5;124m1_arm\u001b[39m\u001b[38;5;124m'\u001b[39m)        \n",
      "\u001b[0;31mNameError\u001b[0m: name 'spirals' is not defined"
     ]
    }
   ],
   "source": [
    "plotattrs = {'plot':True,'coordsys':'HC','markersize':15}\n",
    "spirals.readout(plotattrs,model=use_model,arm='1_arm')        "
   ]
  },
  {
   "cell_type": "markdown",
   "id": "ade0ad1f-092d-448d-8ef7-93c355b15180",
   "metadata": {},
   "source": [
    "#### here plotting all arms together:"
   ]
  },
  {
   "cell_type": "code",
   "execution_count": 6,
   "id": "6b22a133-9bb6-4dde-ba60-7f1a66911e52",
   "metadata": {},
   "outputs": [
    {
     "ename": "NameError",
     "evalue": "name 'spirals' is not defined",
     "output_type": "error",
     "traceback": [
      "\u001b[0;31m---------------------------------------------------------------------------\u001b[0m",
      "\u001b[0;31mNameError\u001b[0m                                 Traceback (most recent call last)",
      "Cell \u001b[0;32mIn[6], line 1\u001b[0m\n\u001b[0;32m----> 1\u001b[0m \u001b[43mspirals\u001b[49m\u001b[38;5;241m.\u001b[39mreadout(plotattrs,model\u001b[38;5;241m=\u001b[39muse_model,arm\u001b[38;5;241m=\u001b[39m\u001b[38;5;124m'\u001b[39m\u001b[38;5;124mall\u001b[39m\u001b[38;5;124m'\u001b[39m)  \n",
      "\u001b[0;31mNameError\u001b[0m: name 'spirals' is not defined"
     ]
    }
   ],
   "source": [
    "spirals.readout(plotattrs,model=use_model,arm='all')  "
   ]
  },
  {
   "cell_type": "markdown",
   "id": "07f20f10-ad4d-44cd-9ebf-bbd5dd807d99",
   "metadata": {},
   "source": [
    "#### can also plot the same in Galactocentric coordinates:"
   ]
  },
  {
   "cell_type": "code",
   "execution_count": 7,
   "id": "5916cb0c-9410-45dc-84aa-6caecff9db28",
   "metadata": {},
   "outputs": [
    {
     "ename": "NameError",
     "evalue": "name 'spirals' is not defined",
     "output_type": "error",
     "traceback": [
      "\u001b[0;31m---------------------------------------------------------------------------\u001b[0m",
      "\u001b[0;31mNameError\u001b[0m                                 Traceback (most recent call last)",
      "Cell \u001b[0;32mIn[7], line 2\u001b[0m\n\u001b[1;32m      1\u001b[0m plotattrs \u001b[38;5;241m=\u001b[39m {\u001b[38;5;124m'\u001b[39m\u001b[38;5;124mplot\u001b[39m\u001b[38;5;124m'\u001b[39m:\u001b[38;5;28;01mTrue\u001b[39;00m,\u001b[38;5;124m'\u001b[39m\u001b[38;5;124mcoordsys\u001b[39m\u001b[38;5;124m'\u001b[39m:\u001b[38;5;124m'\u001b[39m\u001b[38;5;124mGC\u001b[39m\u001b[38;5;124m'\u001b[39m,\u001b[38;5;124m'\u001b[39m\u001b[38;5;124mmarkersize\u001b[39m\u001b[38;5;124m'\u001b[39m:\u001b[38;5;241m15\u001b[39m}\n\u001b[0;32m----> 2\u001b[0m \u001b[43mspirals\u001b[49m\u001b[38;5;241m.\u001b[39mreadout(plotattrs,model\u001b[38;5;241m=\u001b[39muse_model,arm\u001b[38;5;241m=\u001b[39m\u001b[38;5;124m'\u001b[39m\u001b[38;5;124mall\u001b[39m\u001b[38;5;124m'\u001b[39m)  \n",
      "\u001b[0;31mNameError\u001b[0m: name 'spirals' is not defined"
     ]
    }
   ],
   "source": [
    "plotattrs = {'plot':True,'coordsys':'GC','markersize':15}\n",
    "spirals.readout(plotattrs,model=use_model,arm='all')  "
   ]
  },
  {
   "cell_type": "markdown",
   "id": "c934d9d1-e329-4641-a0ff-86a2350cf645",
   "metadata": {},
   "source": [
    "#### One can also overplot a polar grid (in both GC or HC frames)"
   ]
  },
  {
   "cell_type": "code",
   "execution_count": 8,
   "id": "8fd53c97-b188-4019-85c4-20fd0b73e5c8",
   "metadata": {},
   "outputs": [
    {
     "ename": "NameError",
     "evalue": "name 'spirals' is not defined",
     "output_type": "error",
     "traceback": [
      "\u001b[0;31m---------------------------------------------------------------------------\u001b[0m",
      "\u001b[0;31mNameError\u001b[0m                                 Traceback (most recent call last)",
      "Cell \u001b[0;32mIn[8], line 2\u001b[0m\n\u001b[1;32m      1\u001b[0m plotattrs \u001b[38;5;241m=\u001b[39m {\u001b[38;5;124m'\u001b[39m\u001b[38;5;124mplot\u001b[39m\u001b[38;5;124m'\u001b[39m:\u001b[38;5;28;01mTrue\u001b[39;00m,\u001b[38;5;124m'\u001b[39m\u001b[38;5;124mcoordsys\u001b[39m\u001b[38;5;124m'\u001b[39m:\u001b[38;5;124m'\u001b[39m\u001b[38;5;124mHC\u001b[39m\u001b[38;5;124m'\u001b[39m,\u001b[38;5;124m'\u001b[39m\u001b[38;5;124mmarkersize\u001b[39m\u001b[38;5;124m'\u001b[39m:\u001b[38;5;241m15\u001b[39m,\u001b[38;5;124m'\u001b[39m\u001b[38;5;124mpolargrid\u001b[39m\u001b[38;5;124m'\u001b[39m:\u001b[38;5;28;01mTrue\u001b[39;00m}\n\u001b[0;32m----> 2\u001b[0m \u001b[43mspirals\u001b[49m\u001b[38;5;241m.\u001b[39mreadout(plotattrs,model\u001b[38;5;241m=\u001b[39muse_model,arm\u001b[38;5;241m=\u001b[39m\u001b[38;5;124m'\u001b[39m\u001b[38;5;124mall\u001b[39m\u001b[38;5;124m'\u001b[39m)  \n",
      "\u001b[0;31mNameError\u001b[0m: name 'spirals' is not defined"
     ]
    }
   ],
   "source": [
    "plotattrs = {'plot':True,'coordsys':'HC','markersize':15,'polargrid':True}\n",
    "spirals.readout(plotattrs,model=use_model,arm='all')  "
   ]
  },
  {
   "cell_type": "markdown",
   "id": "fd70b10e-5863-4933-8cdc-936f7e92ceb0",
   "metadata": {},
   "source": [
    "#### putting it altogether"
   ]
  },
  {
   "cell_type": "code",
   "execution_count": 9,
   "id": "c097f0ef-cea5-4acf-81bc-c475a2588bad",
   "metadata": {},
   "outputs": [
    {
     "ename": "AttributeError",
     "evalue": "'reid_spiral' object has no attribute 'getarmlist'",
     "output_type": "error",
     "traceback": [
      "\u001b[0;31m---------------------------------------------------------------------------\u001b[0m",
      "\u001b[0;31mAttributeError\u001b[0m                            Traceback (most recent call last)",
      "Cell \u001b[0;32mIn[9], line 2\u001b[0m\n\u001b[1;32m      1\u001b[0m use_model \u001b[38;5;241m=\u001b[39m \u001b[38;5;124m'\u001b[39m\u001b[38;5;124mLevine_2006\u001b[39m\u001b[38;5;124m'\u001b[39m\n\u001b[0;32m----> 2\u001b[0m spirals \u001b[38;5;241m=\u001b[39m \u001b[43msp\u001b[49m\u001b[38;5;241;43m.\u001b[39;49m\u001b[43mmain_\u001b[49m\u001b[43m(\u001b[49m\u001b[43mxsun\u001b[49m\u001b[38;5;241;43m=\u001b[39;49m\u001b[43mxsun\u001b[49m\u001b[43m)\u001b[49m\n\u001b[1;32m      3\u001b[0m plotattrs \u001b[38;5;241m=\u001b[39m {\u001b[38;5;124m'\u001b[39m\u001b[38;5;124mplot\u001b[39m\u001b[38;5;124m'\u001b[39m:\u001b[38;5;28;01mTrue\u001b[39;00m,\u001b[38;5;124m'\u001b[39m\u001b[38;5;124mcoordsys\u001b[39m\u001b[38;5;124m'\u001b[39m:\u001b[38;5;124m'\u001b[39m\u001b[38;5;124mHC\u001b[39m\u001b[38;5;124m'\u001b[39m,\u001b[38;5;124m'\u001b[39m\u001b[38;5;124mmarkersize\u001b[39m\u001b[38;5;124m'\u001b[39m:\u001b[38;5;241m15\u001b[39m,\u001b[38;5;124m'\u001b[39m\u001b[38;5;124mpolargrid\u001b[39m\u001b[38;5;124m'\u001b[39m:\u001b[38;5;28;01mTrue\u001b[39;00m}\n\u001b[1;32m      4\u001b[0m spirals\u001b[38;5;241m.\u001b[39mreadout(plotattrs,model\u001b[38;5;241m=\u001b[39muse_model,arm\u001b[38;5;241m=\u001b[39m\u001b[38;5;124m'\u001b[39m\u001b[38;5;124mall\u001b[39m\u001b[38;5;124m'\u001b[39m)  \n",
      "File \u001b[0;32m~/Documents/GitHub/SpiralMapping_package/SpiralMap.py:1487\u001b[0m, in \u001b[0;36mmain_.__init__\u001b[0;34m(self, xsun)\u001b[0m\n\u001b[1;32m   1484\u001b[0m \u001b[38;5;28mself\u001b[39m\u001b[38;5;241m.\u001b[39mxsun \u001b[38;5;241m=\u001b[39m xsun\n\u001b[1;32m   1485\u001b[0m \u001b[38;5;28mself\u001b[39m\u001b[38;5;241m.\u001b[39mRsun \u001b[38;5;241m=\u001b[39m \u001b[38;5;241m-\u001b[39m\u001b[38;5;28mself\u001b[39m\u001b[38;5;241m.\u001b[39mxsun\n\u001b[0;32m-> 1487\u001b[0m \u001b[38;5;28;43mself\u001b[39;49m\u001b[38;5;241;43m.\u001b[39;49m\u001b[43mlistmodels\u001b[49m\u001b[43m(\u001b[49m\u001b[43m)\u001b[49m\n\u001b[1;32m   1488\u001b[0m \u001b[38;5;28mself\u001b[39m\u001b[38;5;241m.\u001b[39mgetinfo()\n",
      "File \u001b[0;32m~/Documents/GitHub/SpiralMapping_package/SpiralMap.py:1499\u001b[0m, in \u001b[0;36mmain_.listmodels\u001b[0;34m(self)\u001b[0m\n\u001b[1;32m   1496\u001b[0m \u001b[38;5;28mself\u001b[39m\u001b[38;5;241m.\u001b[39mmodels \u001b[38;5;241m=\u001b[39m [\u001b[38;5;124m'\u001b[39m\u001b[38;5;124mTaylor_Cordes_1992\u001b[39m\u001b[38;5;124m'\u001b[39m,\u001b[38;5;124m'\u001b[39m\u001b[38;5;124mDrimmel_NIR_2000\u001b[39m\u001b[38;5;124m'\u001b[39m,\u001b[38;5;124m'\u001b[39m\u001b[38;5;124mLevine_2006\u001b[39m\u001b[38;5;124m'\u001b[39m,\u001b[38;5;124m'\u001b[39m\u001b[38;5;124mHou_Han_2014\u001b[39m\u001b[38;5;124m'\u001b[39m,\u001b[38;5;124m'\u001b[39m\u001b[38;5;124mReid_2019\u001b[39m\u001b[38;5;124m'\u001b[39m,\u001b[38;5;124m'\u001b[39m\u001b[38;5;124mPoggio_2021\u001b[39m\u001b[38;5;124m'\u001b[39m,\u001b[38;5;124m'\u001b[39m\u001b[38;5;124mDrimmel_ceph_2024\u001b[39m\u001b[38;5;124m'\u001b[39m]\n\u001b[1;32m   1497\u001b[0m \u001b[38;5;66;03m# self.models = ['Drimmel_NIR_2000','Levine_2006','Hou_Han_2014','Reid_2019','Poggio_2021']\u001b[39;00m\n\u001b[0;32m-> 1499\u001b[0m \u001b[38;5;28mself\u001b[39m\u001b[38;5;241m.\u001b[39mmodels_class \u001b[38;5;241m=\u001b[39m {\u001b[38;5;124m'\u001b[39m\u001b[38;5;124mReid_2019\u001b[39m\u001b[38;5;124m'\u001b[39m:\u001b[43mreid_spiral\u001b[49m\u001b[43m(\u001b[49m\u001b[43m)\u001b[49m,\n\u001b[1;32m   1500\u001b[0m                      \u001b[38;5;124m'\u001b[39m\u001b[38;5;124mLevine_2006\u001b[39m\u001b[38;5;124m'\u001b[39m:spiral_levine(),\n\u001b[1;32m   1501\u001b[0m                      \u001b[38;5;124m'\u001b[39m\u001b[38;5;124mPoggio_2021\u001b[39m\u001b[38;5;124m'\u001b[39m:spiral_eloisa(),\n\u001b[1;32m   1502\u001b[0m                      \u001b[38;5;124m'\u001b[39m\u001b[38;5;124mDrimmel_NIR_2000\u001b[39m\u001b[38;5;124m'\u001b[39m:spiral_drimmel(),\n\u001b[1;32m   1503\u001b[0m                      \u001b[38;5;124m'\u001b[39m\u001b[38;5;124mTaylor_Cordes_1992\u001b[39m\u001b[38;5;124m'\u001b[39m:TaylorCordesSpiral(),\n\u001b[1;32m   1504\u001b[0m                      \u001b[38;5;124m'\u001b[39m\u001b[38;5;124mHou_Han_2014\u001b[39m\u001b[38;5;124m'\u001b[39m:spiral_houhan(),\n\u001b[1;32m   1505\u001b[0m                      \u001b[38;5;124m'\u001b[39m\u001b[38;5;124mDrimmel_ceph_2024\u001b[39m\u001b[38;5;124m'\u001b[39m:spiral_cepheids()}\n",
      "File \u001b[0;32m~/Documents/GitHub/SpiralMapping_package/SpiralMap.py:1275\u001b[0m, in \u001b[0;36mreid_spiral.__init__\u001b[0;34m(self, kcor)\u001b[0m\n\u001b[1;32m   1266\u001b[0m \u001b[38;5;250m\u001b[39m\u001b[38;5;124;03m\"\"\"Initialize Reid et al. (2019) spiral model\u001b[39;00m\n\u001b[1;32m   1267\u001b[0m \u001b[38;5;124;03m\u001b[39;00m\n\u001b[1;32m   1268\u001b[0m \u001b[38;5;124;03mParameters\u001b[39;00m\n\u001b[0;32m   (...)\u001b[0m\n\u001b[1;32m   1272\u001b[0m \u001b[38;5;124;03m    default=False\u001b[39;00m\n\u001b[1;32m   1273\u001b[0m \u001b[38;5;124;03m\"\"\"\u001b[39;00m\n\u001b[1;32m   1274\u001b[0m \u001b[38;5;28mself\u001b[39m\u001b[38;5;241m.\u001b[39mkcor \u001b[38;5;241m=\u001b[39m kcor\n\u001b[0;32m-> 1275\u001b[0m \u001b[38;5;28;43mself\u001b[39;49m\u001b[38;5;241;43m.\u001b[39;49m\u001b[43mgetarmlist\u001b[49m()\n",
      "\u001b[0;31mAttributeError\u001b[0m: 'reid_spiral' object has no attribute 'getarmlist'"
     ]
    }
   ],
   "source": [
    "use_model = 'Levine_2006'\n",
    "spirals = sp.main_(xsun=xsun)\n",
    "plotattrs = {'plot':True,'coordsys':'HC','markersize':15,'polargrid':True}\n",
    "spirals.readout(plotattrs,model=use_model,arm='all')  "
   ]
  },
  {
   "cell_type": "code",
   "execution_count": 10,
   "id": "005d8e50-c6ba-461b-bd04-6a0a54abfb0e",
   "metadata": {},
   "outputs": [
    {
     "ename": "NameError",
     "evalue": "name 'spirals' is not defined",
     "output_type": "error",
     "traceback": [
      "\u001b[0;31m---------------------------------------------------------------------------\u001b[0m",
      "\u001b[0;31mNameError\u001b[0m                                 Traceback (most recent call last)",
      "Cell \u001b[0;32mIn[10], line 22\u001b[0m\n\u001b[1;32m     20\u001b[0m ax \u001b[38;5;241m=\u001b[39m axes[i]\n\u001b[1;32m     21\u001b[0m plt\u001b[38;5;241m.\u001b[39msca(ax)  \u001b[38;5;66;03m# Set current axes\u001b[39;00m\n\u001b[0;32m---> 22\u001b[0m \u001b[43mspirals\u001b[49m\u001b[38;5;241m.\u001b[39mreadout(plotattrs, model\u001b[38;5;241m=\u001b[39mmodel, arm\u001b[38;5;241m=\u001b[39m\u001b[38;5;124m'\u001b[39m\u001b[38;5;124mall\u001b[39m\u001b[38;5;124m'\u001b[39m)\n\u001b[1;32m     23\u001b[0m ax\u001b[38;5;241m.\u001b[39mset_title(model, fontsize\u001b[38;5;241m=\u001b[39m\u001b[38;5;241m10\u001b[39m)\n\u001b[1;32m     24\u001b[0m ax\u001b[38;5;241m.\u001b[39mtick_params(axis\u001b[38;5;241m=\u001b[39m\u001b[38;5;124m'\u001b[39m\u001b[38;5;124mboth\u001b[39m\u001b[38;5;124m'\u001b[39m, which\u001b[38;5;241m=\u001b[39m\u001b[38;5;124m'\u001b[39m\u001b[38;5;124mmajor\u001b[39m\u001b[38;5;124m'\u001b[39m, labelsize\u001b[38;5;241m=\u001b[39m\u001b[38;5;241m8\u001b[39m)\n",
      "\u001b[0;31mNameError\u001b[0m: name 'spirals' is not defined"
     ]
    },
    {
     "data": {
      "image/png": "[encoded data removed]",
      "text/plain": [
       "<Figure size 1500x800 with 6 Axes>"
      ]
     },
     "metadata": {},
     "output_type": "display_data"
    }
   ],
   "source": [
    "\n",
    "\n",
    "# List of all available models\n",
    "models = [\n",
    "    'Taylor_Cordes_1992',\n",
    "    'Drimmel_NIR_2000',\n",
    "    'Levine_2006',\n",
    "    'Hou_Han_2014',\n",
    "    'Reid_2019',\n",
    "    'Drimmel_ceph_2024'\n",
    "]\n",
    "\n",
    "# Create a 3x3 grid of subplots (adjust figsize if needed)\n",
    "fig, axes = plt.subplots(2, 3, figsize=(15, 8))\n",
    "axes = axes.flatten()  # Flatten to 1D array for easy iteration\n",
    "\n",
    "# Common plot attributes\n",
    "plotattrs = {'plot': True, 'coordsys': 'HC', 'markersize': 15, 'polargrid': True}\n",
    "\n",
    "# Plot each model in its own subplot\n",
    "for i, model in enumerate(models):\n",
    "    ax = axes[i]\n",
    "    plt.sca(ax)  # Set current axes\n",
    "    spirals.readout(plotattrs, model=model, arm='all')\n",
    "    ax.set_title(model, fontsize=10)\n",
    "    ax.tick_params(axis='both', which='major', labelsize=8)\n",
    "\n",
    "# Hide unused subplots\n",
    "for j in range(len(models), len(axes)):\n",
    "    axes[j].axis('off')\n",
    "\n",
    "plt.tight_layout()\n",
    "plt.savefig(\"spiral_models_polargrid_HC.png\", dpi=300, bbox_inches='tight')\n",
    "plt.show()"
   ]
  },
  {
   "cell_type": "code",
   "execution_count": null,
   "id": "8465f1b4-021a-40e1-8ff0-d4b8e2db573f",
   "metadata": {},
   "outputs": [],
   "source": [
    "import matplotlib.pyplot as plt\n",
    "\n",
    "# Generate spiral data once\n",
    "spirals = sp.main_(xsun=xsun)\n",
    "\n",
    "# List of all available models\n",
    "models = [\n",
    "    'Taylor_Cordes_1992',\n",
    "    'Drimmel_NIR_2000',\n",
    "    'Levine_2006',\n",
    "    'Hou_Han_2014',\n",
    "    'Reid_2019',\n",
    "    'Drimmel_ceph_2024'\n",
    "]\n",
    "\n",
    "# Create a 3x3 grid of subplots (adjust figsize if needed)\n",
    "fig, axes = plt.subplots(2, 3, figsize=(15, 8))\n",
    "axes = axes.flatten()  # Flatten to 1D array for easy iteration\n",
    "\n",
    "# Common plot attributes\n",
    "plotattrs = {'plot': True, 'coordsys': 'GC', 'markersize': 15, 'polargrid': True}\n",
    "\n",
    "# Plot each model in its own subplot\n",
    "for i, model in enumerate(models):\n",
    "    ax = axes[i]\n",
    "    plt.sca(ax)  # Set current axes\n",
    "    spirals.readout(plotattrs, model=model, arm='all')\n",
    "    ax.set_title(model, fontsize=10)\n",
    "    ax.tick_params(axis='both', which='major', labelsize=8)\n",
    "\n",
    "# Hide unused subplots\n",
    "for j in range(len(models), len(axes)):\n",
    "    axes[j].axis('off')\n",
    "\n",
    "plt.tight_layout()\n",
    "plt.savefig(\"spiral_models_polargrid_GC.png\", dpi=300, bbox_inches='tight')\n",
    "plt.show()"
   ]
  },
  {
   "cell_type": "code",
   "execution_count": null,
   "id": "87baa387-c4b7-4be0-a968-e234c578eae9",
   "metadata": {},
   "outputs": [],
   "source": []
  },
  {
   "cell_type": "code",
   "execution_count": null,
   "id": "0b6e8491-3b0a-46c3-b1cd-48bf49d81401",
   "metadata": {},
   "outputs": [],
   "source": []
  },
  {
   "cell_type": "code",
   "execution_count": null,
   "id": "1c81e53a-e927-4cd5-a29e-5e11e8d7960e",
   "metadata": {},
   "outputs": [],
   "source": []
  },
  {
   "cell_type": "code",
   "execution_count": null,
   "id": "6b0e864e-aa69-4389-8af4-c3cb41b8fd38",
   "metadata": {},
   "outputs": [],
   "source": []
  },
  {
   "cell_type": "code",
   "execution_count": null,
   "id": "7c628bba-5517-46bb-8c26-7b106628ffd3",
   "metadata": {},
   "outputs": [],
   "source": []
  },
  {
   "cell_type": "code",
   "execution_count": null,
   "id": "833474b6-77ac-4ba3-bb3c-a48b0c56c248",
   "metadata": {},
   "outputs": [],
   "source": []
  },
  {
   "cell_type": "code",
   "execution_count": null,
   "id": "050a3eab-a706-4d7e-bfb0-66e34a4d7283",
   "metadata": {},
   "outputs": [],
   "source": []
  },
  {
   "cell_type": "code",
   "execution_count": null,
   "id": "f1ade4f8-ea32-40a9-9b25-dd374e53e9bb",
   "metadata": {},
   "outputs": [],
   "source": []
  },
  {
   "cell_type": "code",
   "execution_count": null,
   "id": "a69f9e88-de28-4931-9b5f-eda3c4ab893b",
   "metadata": {},
   "outputs": [],
   "source": []
  },
  {
   "cell_type": "code",
   "execution_count": null,
   "id": "07614063-7fc7-4cc8-91e3-db250163423f",
   "metadata": {},
   "outputs": [],
   "source": []
  }
 ],
 "metadata": {
  "kernelspec": {
   "display_name": "Python 3 (ipykernel)",
   "language": "python",
   "name": "python3"
  },
  "language_info": {
   "codemirror_mode": {
    "name": "ipython",
    "version": 3
   },
   "file_extension": ".py",
   "mimetype": "text/x-python",
   "name": "python",
   "nbconvert_exporter": "python",
   "pygments_lexer": "ipython3",
   "version": "3.9.6"
  }
 },
 "nbformat": 4,
 "nbformat_minor": 5
}
