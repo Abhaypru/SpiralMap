{
 "cells": [
  {
   "cell_type": "code",
   "execution_count": 12,
   "id": "c8e5c06e-49b8-45e9-96f5-edd701b3f0ca",
   "metadata": {},
   "outputs": [],
   "source": [
    "import SpiralMap as sp\n",
    "import matplotlib.pyplot as plt\n",
    "import os\n",
    "plt.ion()\n",
    "\n",
    "xsun=-8.277"
   ]
  },
  {
   "cell_type": "markdown",
   "id": "38288d75-4676-4859-a265-849064f77d80",
   "metadata": {},
   "source": [
    "### fsf"
   ]
  },
  {
   "cell_type": "markdown",
   "id": "02e133d9-fdc1-4631-be90-de1bdb8acb9a",
   "metadata": {},
   "source": [
    "#### First we need to initialise the main class by passing in the xsun. This also prints out the list of models currently available."
   ]
  },
  {
   "cell_type": "code",
   "execution_count": 15,
   "id": "9c2f34ab-c873-4403-992c-4f3986baade8",
   "metadata": {},
   "outputs": [
    {
     "name": "stdout",
     "output_type": "stream",
     "text": [
      "try self.getinfo(model) for more details\n",
      "\n",
      "------------------------\n",
      "    Available models:\n",
      "0  Taylor_Cordes_1992\n",
      "1    Drimmel_NIR_2000\n",
      "2         Levine_2006\n",
      "3        Hou_Han_2014\n",
      "4           Reid_2019\n",
      "5         Poggio_2021\n",
      "6   Drimmel_ceph_2024\n",
      "------------------------\n"
     ]
    }
   ],
   "source": [
    "spirals = sp.main_(xsun=xsun)"
   ]
  },
  {
   "cell_type": "markdown",
   "id": "0a679c4a-898c-4544-b2c2-5e5a29178167",
   "metadata": {},
   "source": [
    "#### This information can also be extracted by calling:"
   ]
  },
  {
   "cell_type": "code",
   "execution_count": 19,
   "id": "ba120796-4a0a-4350-825c-a54a57489a86",
   "metadata": {},
   "outputs": [
    {
     "name": "stdout",
     "output_type": "stream",
     "text": [
      "try self.getinfo(model) for more details\n",
      "\n",
      "------------------------\n",
      "    Available models:\n",
      "0  Taylor_Cordes_1992\n",
      "1    Drimmel_NIR_2000\n",
      "2         Levine_2006\n",
      "3        Hou_Han_2014\n",
      "4           Reid_2019\n",
      "5         Poggio_2021\n",
      "6   Drimmel_ceph_2024\n",
      "------------------------\n"
     ]
    }
   ],
   "source": [
    "spirals.getinfo()"
   ]
  },
  {
   "cell_type": "markdown",
   "id": "1bb759a3-67bf-4a4b-8f92-f40adfe039a1",
   "metadata": {},
   "source": [
    "#### To get details on a particular model (such as the number of arms and their names if available) we can call :"
   ]
  },
  {
   "cell_type": "code",
   "execution_count": 22,
   "id": "4c6aa787-568a-4523-a34d-e2c02328e28f",
   "metadata": {},
   "outputs": [
    {
     "name": "stdout",
     "output_type": "stream",
     "text": [
      "#####################\n",
      "Model = Taylor_Cordes_1992\n",
      "\n",
      "------------------------\n",
      "  Arm list\n",
      "0     Arm1\n",
      "1     Arm2\n",
      "2     Arm3\n",
      "3     Arm4\n",
      "------------------------\n",
      "#####################\n",
      "Model = Reid_2019\n",
      "\n",
      "------------------------\n",
      "  Arm list\n",
      "0    3-kpc\n",
      "1    Norma\n",
      "2  Sct-Cen\n",
      "3  Sgr-Car\n",
      "4    Local\n",
      "5  Perseus\n",
      "6    Outer\n",
      "------------------------\n"
     ]
    }
   ],
   "source": [
    "spirals.getinfo(model='Taylor_Cordes_1992')\n",
    "spirals.getinfo(model='Reid_2019')"
   ]
  },
  {
   "cell_type": "code",
   "execution_count": null,
   "id": "a7eb5b32-8733-4ad4-8e61-f869c862757b",
   "metadata": {},
   "outputs": [],
   "source": []
  }
 ],
 "metadata": {
  "kernelspec": {
   "display_name": "Python 3 (ipykernel)",
   "language": "python",
   "name": "python3"
  },
  "language_info": {
   "codemirror_mode": {
    "name": "ipython",
    "version": 3
   },
   "file_extension": ".py",
   "mimetype": "text/x-python",
   "name": "python",
   "nbconvert_exporter": "python",
   "pygments_lexer": "ipython3",
   "version": "3.9.6"
  }
 },
 "nbformat": 4,
 "nbformat_minor": 5
}
