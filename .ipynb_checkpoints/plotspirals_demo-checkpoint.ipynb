{
 "cells": [
  {
   "cell_type": "code",
   "execution_count": 1,
   "id": "47397e86-d898-4dd8-8371-5d706c13d32c",
   "metadata": {},
   "outputs": [],
   "source": [
    "import SpiralMap as sp"
   ]
  },
  {
   "cell_type": "code",
   "execution_count": 4,
   "id": "8c49c140-c51a-4a2e-aca7-8a5dda0d5a00",
   "metadata": {},
   "outputs": [
    {
     "name": "stdout",
     "output_type": "stream",
     "text": [
      "\n",
      "model = reid_2019\n",
      "['3-kpc' 'Norma' 'Sct-Cen' 'Sgr-Car' 'Local' 'Perseus' 'Outer']\n"
     ]
    }
   ],
   "source": [
    "tst = sp.main_()\n",
    "tst.plot_(model='reid_2019',print_=True)"
   ]
  },
  {
   "cell_type": "code",
   "execution_count": null,
   "id": "3a00ec5c-8ab1-441e-a39c-4c7be3cb9fc2",
   "metadata": {},
   "outputs": [],
   "source": []
  }
 ],
 "metadata": {
  "kernelspec": {
   "display_name": "Python 3 (ipykernel)",
   "language": "python",
   "name": "python3"
  },
  "language_info": {
   "codemirror_mode": {
    "name": "ipython",
    "version": 3
   },
   "file_extension": ".py",
   "mimetype": "text/x-python",
   "name": "python",
   "nbconvert_exporter": "python",
   "pygments_lexer": "ipython3",
   "version": "3.9.6"
  }
 },
 "nbformat": 4,
 "nbformat_minor": 5
}
