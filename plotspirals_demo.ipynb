{
 "cells": [
  {
   "cell_type": "markdown",
   "id": "4ad95cf3",
   "metadata": {},
   "source": [
    "# Import and initialise the package\n",
    "\n",
    "### When the package is initialised, it prints out all the available models. The details of these are provided in the primer.\n"
   ]
  },
  {
   "cell_type": "code",
   "execution_count": 1,
   "id": "8c49c140-c51a-4a2e-aca7-8a5dda0d5a00",
   "metadata": {},
   "outputs": [
    {
     "name": "stdout",
     "output_type": "stream",
     "text": [
      "\n",
      "try self.getinfo(model) for more details\n",
      "\n",
      "------------------------\n",
      "    Available models:\n",
      "0    Drimmel_NIR_2000\n",
      "1      DKPS_ceph_2024\n",
      "2           Reid_2019\n",
      "3         Poggio_2021\n",
      "4  Taylor_Cordes_1992\n",
      "------------------------\n"
     ]
    }
   ],
   "source": [
    "import SpiralMap as sp\n",
    "spirals = sp.main_()  "
   ]
  },
  {
   "cell_type": "markdown",
   "id": "365c2784",
   "metadata": {},
   "source": [
    "### To get further details about a particular model, we can pass it in the getinfo function. if model =' ' this will again return the list of all models. In the example below we can check all the additional info about the Reid_2019 model such as the number of arms etc."
   ]
  },
  {
   "cell_type": "code",
   "execution_count": 2,
   "id": "1987a972",
   "metadata": {},
   "outputs": [
    {
     "name": "stdout",
     "output_type": "stream",
     "text": [
      "#####################\n",
      "Model = Reid_2019\n",
      "\n",
      "------------------------\n",
      "  Arm list\n",
      "0    3-kpc\n",
      "1    Norma\n",
      "2  Sct-Cen\n",
      "3  Sgr-Car\n",
      "4    Local\n",
      "5  Perseus\n",
      "6    Outer\n",
      "------------------------\n"
     ]
    }
   ],
   "source": [
    "spirals.getinfo(model='Reid_2019')"
   ]
  },
  {
   "cell_type": "markdown",
   "id": "4065f8d0",
   "metadata": {},
   "source": [
    "### Plotting Individual arms\n",
    "#### a) If the user chooses a model and a particular arm, then the X,Y coordinates are made available. b) By passing in plot-attributes, the user can directly have the particular arm overplotted.\n"
   ]
  },
  {
   "cell_type": "code",
   "execution_count": 5,
   "id": "43863106",
   "metadata": {},
   "outputs": [
    {
     "name": "stdout",
     "output_type": "stream",
     "text": [
      "\n",
      "by default the plot attributes are set as follows:\n",
      "\n",
      "{'plot': False, 'markersize': 3, 'coordsys': 'HC', 'linewidth': 0.8, 'linestyle': '-', 'armcolour': '', 'xmin': '', 'xmax': '', 'ymin': '', 'ymax': ''}\n"
     ]
    }
   ],
   "source": [
    "print('')\n",
    "print('by default the plot attributes are set as follows:')\n",
    "print('')\n",
    "print(spirals.plotattrs_default)"
   ]
  },
  {
   "cell_type": "code",
   "execution_count": 28,
   "id": "fd2c4b29",
   "metadata": {},
   "outputs": [
    {
     "data": {
      "image/png": "[encoded data removed]",
      "text/plain": [
       "<Figure size 432x288 with 1 Axes>"
      ]
     },
     "metadata": {
      "needs_background": "light"
     },
     "output_type": "display_data"
    }
   ],
   "source": [
    "# let's plot the Norma arm in the Reid_2019 model using default parameters:\n",
    "plotattrs = {'plot':True,'coordsys':'HC'}\n",
    "spirals.readout(plotattrs,model='Reid_2019',arm='Norma')\n"
   ]
  },
  {
   "cell_type": "code",
   "execution_count": 29,
   "id": "c146d110",
   "metadata": {
    "scrolled": true
   },
   "outputs": [
    {
     "data": {
      "image/png": "[encoded data removed]",
      "text/plain": [
       "<Figure size 432x288 with 1 Axes>"
      ]
     },
     "metadata": {
      "needs_background": "light"
     },
     "output_type": "display_data"
    }
   ],
   "source": [
    "# now let's plot this in the Galactocentric frame, with the xy limits set, and with a colour of our choice instead\n",
    "plotattrs = {'plot':True,'coordsys':'GC','xmin':-7,'xmax':-1,'ymin':-1,'ymax':4,'armcolour':'pink'}\n",
    "spirals.readout(plotattrs,model='Reid_2019',arm='Norma')\n"
   ]
  },
  {
   "cell_type": "code",
   "execution_count": 53,
   "id": "387323be",
   "metadata": {},
   "outputs": [
    {
     "name": "stdout",
     "output_type": "stream",
     "text": [
      "dict_keys(['xhc', 'yhc', 'xgc', 'ygc'])\n"
     ]
    },
    {
     "data": {
      "text/plain": [
       "array([-4.42546686, -4.42519991, -4.42492971, -4.42465625, -4.42437955,\n",
       "       -4.4240996 , -4.42381639, -4.42352993, -4.42324022, -4.42294726])"
      ]
     },
     "execution_count": 53,
     "metadata": {},
     "output_type": "execute_result"
    }
   ],
   "source": [
    "# The coordinates in both heliocentric and galactocentric frame are provided in spirals.dout :\n",
    "\n",
    "print(spirals.dout.keys() )\n",
    "spirals.dout['xhc'][:10]\n",
    "spirals.dout['xgc'][:10]\n"
   ]
  },
  {
   "cell_type": "markdown",
   "id": "3518c125",
   "metadata": {},
   "source": [
    "### Plotting all arms\n",
    "####  if no model is specified the code breaks, but if a model is specified and no arm, it simply plots all the arms available using default colours. "
   ]
  },
  {
   "cell_type": "code",
   "execution_count": 59,
   "id": "2c90b2b9",
   "metadata": {},
   "outputs": [
    {
     "data": {
      "image/png": "[encoded data removed]",
      "text/plain": [
       "<Figure size 432x288 with 1 Axes>"
      ]
     },
     "metadata": {
      "needs_background": "light"
     },
     "output_type": "display_data"
    }
   ],
   "source": [
    "plotattrs = {'plot':True,'coordsys':'GC'}\n",
    "spirals.readout(plotattrs,model='Reid_2019',arm='all')"
   ]
  },
  {
   "cell_type": "code",
   "execution_count": null,
   "id": "12b31dff",
   "metadata": {},
   "outputs": [],
   "source": []
  }
 ],
 "metadata": {
  "kernelspec": {
   "display_name": "Python 3 (ipykernel)",
   "language": "python",
   "name": "python3"
  },
  "language_info": {
   "codemirror_mode": {
    "name": "ipython",
    "version": 3
   },
   "file_extension": ".py",
   "mimetype": "text/x-python",
   "name": "python",
   "nbconvert_exporter": "python",
   "pygments_lexer": "ipython3",
   "version": "3.9.12"
  }
 },
 "nbformat": 4,
 "nbformat_minor": 5
}
