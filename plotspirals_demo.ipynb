{
 "cells": [
  {
   "cell_type": "markdown",
   "id": "f32f8d81",
   "metadata": {},
   "source": [
    "# Import and initialise the package\n",
    "\n",
    "### When the package is initialised, it prints out all the available models. The details of these are provided in the primer.\n"
   ]
  },
  {
   "cell_type": "code",
   "execution_count": 9,
   "id": "8c49c140-c51a-4a2e-aca7-8a5dda0d5a00",
   "metadata": {},
   "outputs": [
    {
     "name": "stdout",
     "output_type": "stream",
     "text": [
      "\n",
      "try self.getinfo(model) for more details\n",
      "\n",
      "------------------------\n",
      "    Available models:\n",
      "0    Drimmel_NIR_2000\n",
      "1      DKPS_ceph_2024\n",
      "2           Reid_2019\n",
      "3         Poggio_2021\n",
      "4  Taylor_Cordes_1992\n",
      "------------------------\n"
     ]
    }
   ],
   "source": [
    "import SpiralMap as sp\n",
    "spirals = sp.main_()  "
   ]
  },
  {
   "cell_type": "markdown",
   "id": "0cc0b43a",
   "metadata": {},
   "source": [
    "### To get further details about a particular model, we can pass it in the getinfo function. if model =' ' this will again return the list of all models."
   ]
  },
  {
   "cell_type": "code",
   "execution_count": 15,
   "id": "ff462979",
   "metadata": {},
   "outputs": [
    {
     "name": "stdout",
     "output_type": "stream",
     "text": [
      "#####################\n",
      "Model = Reid_2019\n",
      "\n",
      "------------------------\n",
      "  Arm list\n",
      "0    3-kpc\n",
      "1    Norma\n",
      "2  Sct-Cen\n",
      "3  Sgr-Car\n",
      "4    Local\n",
      "5  Perseus\n",
      "6    Outer\n",
      "------------------------\n"
     ]
    }
   ],
   "source": [
    "spirals.getinfo(model='Reid_2019')"
   ]
  },
  {
   "cell_type": "code",
   "execution_count": null,
   "id": "8419c1d4",
   "metadata": {},
   "outputs": [],
   "source": []
  }
 ],
 "metadata": {
  "kernelspec": {
   "display_name": "Python 3 (ipykernel)",
   "language": "python",
   "name": "python3"
  },
  "language_info": {
   "codemirror_mode": {
    "name": "ipython",
    "version": 3
   },
   "file_extension": ".py",
   "mimetype": "text/x-python",
   "name": "python",
   "nbconvert_exporter": "python",
   "pygments_lexer": "ipython3",
   "version": "3.9.12"
  }
 },
 "nbformat": 4,
 "nbformat_minor": 5
}
